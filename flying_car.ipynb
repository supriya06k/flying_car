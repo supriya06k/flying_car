{
 "cells": [
  {
   "cell_type": "code",
   "execution_count": 1,
   "metadata": {},
   "outputs": [],
   "source": [
    "import pygame\n",
    "import time\n",
    "import random"
   ]
  },
  {
   "cell_type": "code",
   "execution_count": 2,
   "metadata": {},
   "outputs": [],
   "source": [
    "display_width=800\n",
    "display_height=600\n",
    "\n",
    "\n",
    "black=(0,0,0)\n",
    "white=(255,255,255)\n",
    "red=(255,0,0)\n",
    "\n",
    "car_width=750\n",
    "\n",
    "pygame.init()\n",
    "gameDisplay=pygame.display.set_mode((display_width,display_height))\n",
    "pygame.display.set_caption(\"rohit_racer\")\n",
    "clock=pygame.time.Clock()\n",
    "\n",
    "scoop=pygame.image.load(\"car.png\")\n"
   ]
  },
  {
   "cell_type": "code",
   "execution_count": 3,
   "metadata": {},
   "outputs": [],
   "source": [
    "def things(thingx,thingy,thingw,thingh,colour):\n",
    "    pygame.draw.rect(gameDisplay,colour,[thingx,thingy])"
   ]
  },
  {
   "cell_type": "code",
   "execution_count": 4,
   "metadata": {},
   "outputs": [],
   "source": [
    "def car(x,y):\n",
    "    gameDisplay.blit(scoop,(x,y))\n"
   ]
  },
  {
   "cell_type": "code",
   "execution_count": 5,
   "metadata": {},
   "outputs": [],
   "source": [
    "def text_object(text,font):\n",
    "    textSurface=font.render(text,True,black)\n",
    "    return textSurface,textSurface.get_rect()"
   ]
  },
  {
   "cell_type": "code",
   "execution_count": 6,
   "metadata": {},
   "outputs": [],
   "source": [
    "def message_display(text):\n",
    "    largeText=pygame.font.Font(\"freesanbold.ttf\",115)\n",
    "    TextSurf,TextRect=text_objects(text,largeText)\n",
    "    TextRect.center =((display_width)/2,display_height/2)\n",
    "    gameDisplay.blit(TextSurf,TextRect)\n",
    "    \n",
    "    pygame.Display.update()\n",
    "    time.sleep(2)\n",
    "    gameLoop()"
   ]
  },
  {
   "cell_type": "code",
   "execution_count": 7,
   "metadata": {},
   "outputs": [],
   "source": [
    "def crash():\n",
    "    message_display(\"You crashed\")"
   ]
  },
  {
   "cell_type": "code",
   "execution_count": 8,
   "metadata": {},
   "outputs": [],
   "source": [
    "def gameLoop():\n",
    "    x=(display_width*0.45)\n",
    "    y=(display_height*0.45)\n",
    "   \n",
    "    x_change=0\n",
    "    \n",
    "    thing_startx=random.randrange(0,display_width)\n",
    "    thing_starty=-600\n",
    "    thing_speed=7\n",
    "    \n",
    "    thing_width=100\n",
    "    thing_height=100\n",
    "    \n",
    "    gameExit=False\n",
    "    while not gameExit:\n",
    "        for event in pygame.event.get():\n",
    "            if event.type==pygame.QUIT:\n",
    "                gameExit.quit()\n",
    "                quit()\n",
    "                \n",
    "            if event.type==pygame.KEYDOWN:\n",
    "                if event.key==pygame.K_LEFT:\n",
    "                    x_change=-5\n",
    "                if event.key==pygame.K_RIGHT:\n",
    "                    x_change=5\n",
    "            if event.type==pygame.KEYUP:\n",
    "                if event.key==pygame.K_LEFT or event.key==pygame.K_RIGHT:\n",
    "                    x_change=0\n",
    "\n",
    "    x += x_change\n",
    "    \n",
    "    \n",
    "    gameDisplay.fill(white)\n",
    "    \n",
    "    things(thing_startx,thing_starty,thing_width,thing_height,black)\n",
    "    thing_starty+=thing_speed\n",
    "    car(x,y)\n",
    "    \n",
    "    if x >display_width-car_width or x<0:\n",
    "        gameExit=True\n",
    "    \n",
    "    pygame.display.update()\n",
    "    clock.tick(60)\n",
    "    "
   ]
  },
  {
   "cell_type": "code",
   "execution_count": 9,
   "metadata": {},
   "outputs": [
    {
     "ename": "AttributeError",
     "evalue": "'bool' object has no attribute 'quit'",
     "output_type": "error",
     "traceback": [
      "\u001b[1;31m---------------------------------------------------------------------------\u001b[0m",
      "\u001b[1;31mAttributeError\u001b[0m                            Traceback (most recent call last)",
      "\u001b[1;32m<ipython-input-9-d4e09bb33a44>\u001b[0m in \u001b[0;36m<module>\u001b[1;34m()\u001b[0m\n\u001b[1;32m----> 1\u001b[1;33m \u001b[0mgameLoop\u001b[0m\u001b[1;33m(\u001b[0m\u001b[1;33m)\u001b[0m\u001b[1;33m\u001b[0m\u001b[0m\n\u001b[0m\u001b[0;32m      2\u001b[0m \u001b[0mpygame\u001b[0m\u001b[1;33m.\u001b[0m\u001b[0mquit\u001b[0m\u001b[1;33m(\u001b[0m\u001b[1;33m)\u001b[0m\u001b[1;33m\u001b[0m\u001b[0m\n\u001b[0;32m      3\u001b[0m \u001b[0mquit\u001b[0m\u001b[1;33m(\u001b[0m\u001b[1;33m)\u001b[0m\u001b[1;33m\u001b[0m\u001b[0m\n",
      "\u001b[1;32m<ipython-input-8-0d58691807af>\u001b[0m in \u001b[0;36mgameLoop\u001b[1;34m()\u001b[0m\n\u001b[0;32m     16\u001b[0m         \u001b[1;32mfor\u001b[0m \u001b[0mevent\u001b[0m \u001b[1;32min\u001b[0m \u001b[0mpygame\u001b[0m\u001b[1;33m.\u001b[0m\u001b[0mevent\u001b[0m\u001b[1;33m.\u001b[0m\u001b[0mget\u001b[0m\u001b[1;33m(\u001b[0m\u001b[1;33m)\u001b[0m\u001b[1;33m:\u001b[0m\u001b[1;33m\u001b[0m\u001b[0m\n\u001b[0;32m     17\u001b[0m             \u001b[1;32mif\u001b[0m \u001b[0mevent\u001b[0m\u001b[1;33m.\u001b[0m\u001b[0mtype\u001b[0m\u001b[1;33m==\u001b[0m\u001b[0mpygame\u001b[0m\u001b[1;33m.\u001b[0m\u001b[0mQUIT\u001b[0m\u001b[1;33m:\u001b[0m\u001b[1;33m\u001b[0m\u001b[0m\n\u001b[1;32m---> 18\u001b[1;33m                 \u001b[0mgameExit\u001b[0m\u001b[1;33m.\u001b[0m\u001b[0mquit\u001b[0m\u001b[1;33m(\u001b[0m\u001b[1;33m)\u001b[0m\u001b[1;33m\u001b[0m\u001b[0m\n\u001b[0m\u001b[0;32m     19\u001b[0m                 \u001b[0mquit\u001b[0m\u001b[1;33m(\u001b[0m\u001b[1;33m)\u001b[0m\u001b[1;33m\u001b[0m\u001b[0m\n\u001b[0;32m     20\u001b[0m \u001b[1;33m\u001b[0m\u001b[0m\n",
      "\u001b[1;31mAttributeError\u001b[0m: 'bool' object has no attribute 'quit'"
     ]
    }
   ],
   "source": [
    "gameLoop()\n",
    "pygame.quit()\n",
    "quit()"
   ]
  },
  {
   "cell_type": "code",
   "execution_count": null,
   "metadata": {},
   "outputs": [],
   "source": []
  },
  {
   "cell_type": "code",
   "execution_count": null,
   "metadata": {},
   "outputs": [],
   "source": []
  }
 ],
 "metadata": {
  "kernelspec": {
   "display_name": "Python 3",
   "language": "python",
   "name": "python3"
  },
  "language_info": {
   "codemirror_mode": {
    "name": "ipython",
    "version": 3
   },
   "file_extension": ".py",
   "mimetype": "text/x-python",
   "name": "python",
   "nbconvert_exporter": "python",
   "pygments_lexer": "ipython3",
   "version": "3.6.1"
  }
 },
 "nbformat": 4,
 "nbformat_minor": 2
}
