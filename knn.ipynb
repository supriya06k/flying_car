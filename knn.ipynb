{
 "cells": [
  {
   "cell_type": "code",
   "execution_count": 89,
   "metadata": {},
   "outputs": [],
   "source": [
    "import numpy as np\n"
   ]
  },
  {
   "cell_type": "code",
   "execution_count": null,
   "metadata": {},
   "outputs": [],
   "source": []
  },
  {
   "cell_type": "code",
   "execution_count": 90,
   "metadata": {},
   "outputs": [],
   "source": [
    "class k_nearest_neighbour:\n",
    "    def __init__(self,k):\n",
    "        self.k=k\n",
    "        \n",
    "    def fit(self,Xtr,Ytr):\n",
    "        self.Xtr=Xtr\n",
    "        self.Ytr=Ytr\n",
    "        \n",
    "    def predict(self,Xts):\n",
    "        Y_hat_ts = np.zeros(Xts.shape[0])    \n",
    "        for test_idx in range(len(Xts)):\n",
    "            test_point=Xts[test_idx]\n",
    "            distance_vector=np.zeros(len(Xtr))\n",
    "            for idx in range(len(Xtr)):\n",
    "                train_point=self.Xtr[idx]\n",
    "                distance_vector[idx]=np.linalg.norm(test_point-train_point)\n",
    "                \n",
    "            distance_vector_sorted=np.argsort(distance_vector)\n",
    "            num_positives=0\n",
    "            for i in range(self.k):\n",
    "                num_positives+=Ytr[distance_vector_sorted[i]]\n",
    "                \n",
    "            if (num_positives>=k/2):\n",
    "                Y_hat_ts[test_idx]=1\n",
    "            else:\n",
    "                Y_hat_ts[test_idx]=0\n",
    "        return Y_hat_ts"
   ]
  },
  {
   "cell_type": "code",
   "execution_count": 91,
   "metadata": {},
   "outputs": [],
   "source": [
    "path=\"C:\\\\Users\\\\nEW u\\\\Desktop\\\\data\\\\\"\n",
    "Xtr=np.load(path+\"Xtrain.npy\")\n",
    "Ytr=np.load(path+\"Ytrain.npy\")\n",
    "Xts=np.load(path+\"Xtest.npy\")\n",
    "Yts=np.load(path+\"Ytest.npy\")\n",
    "\n",
    "k=3\n",
    "classifier=k_nearest_neighbour(k)\n"
   ]
  },
  {
   "cell_type": "code",
   "execution_count": 92,
   "metadata": {},
   "outputs": [],
   "source": [
    "classifier.fit(Xtr,Ytr)\n",
    "prediction=classifier.predict(Xts)"
   ]
  },
  {
   "cell_type": "code",
   "execution_count": 93,
   "metadata": {},
   "outputs": [
    {
     "name": "stdout",
     "output_type": "stream",
     "text": [
      "79.47882736156352\n"
     ]
    }
   ],
   "source": [
    "accuracy=0.0\n",
    "for i in range(len(prediction)):\n",
    "    if prediction[i]==Yts[i]:\n",
    "        accuracy+=1\n",
    "accuracy/=len(prediction)\n",
    "accuracy*=100\n",
    "print (accuracy)"
   ]
  },
  {
   "cell_type": "code",
   "execution_count": 94,
   "metadata": {},
   "outputs": [
    {
     "name": "stdout",
     "output_type": "stream",
     "text": [
      "90.19021739130434\n"
     ]
    }
   ],
   "source": [
    "pred=classifier.predict(Xtr)\n",
    "accu=0.0\n",
    "for i in range(len(pred)):\n",
    "    if pred[i]==Ytr[i]:\n",
    "        accu=accu+1\n",
    "accu=accu/len(pred)\n",
    "accu=accu*100\n",
    "print(accu)"
   ]
  },
  {
   "cell_type": "code",
   "execution_count": null,
   "metadata": {},
   "outputs": [],
   "source": []
  },
  {
   "cell_type": "code",
   "execution_count": null,
   "metadata": {},
   "outputs": [],
   "source": []
  }
 ],
 "metadata": {
  "kernelspec": {
   "display_name": "Python 3",
   "language": "python",
   "name": "python3"
  },
  "language_info": {
   "codemirror_mode": {
    "name": "ipython",
    "version": 3
   },
   "file_extension": ".py",
   "mimetype": "text/x-python",
   "name": "python",
   "nbconvert_exporter": "python",
   "pygments_lexer": "ipython3",
   "version": "3.6.1"
  }
 },
 "nbformat": 4,
 "nbformat_minor": 2
}
